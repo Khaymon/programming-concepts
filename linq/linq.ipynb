{
 "cells": [
  {
   "cell_type": "code",
   "execution_count": 106,
   "metadata": {},
   "outputs": [],
   "source": [
    "from linq import LINQIterator"
   ]
  },
  {
   "attachments": {},
   "cell_type": "markdown",
   "metadata": {},
   "source": [
    "## Fibonacci"
   ]
  },
  {
   "cell_type": "code",
   "execution_count": 108,
   "metadata": {},
   "outputs": [],
   "source": [
    "def fibonacci():\n",
    "    previous = 0\n",
    "    current = 1\n",
    "\n",
    "    print(\"# FIBONACCI GENERATOR # \", previous, \"is generated\")\n",
    "    yield previous\n",
    "    print(\"# FIBONACCI GENERATOR # \", current, \"is generated\")\n",
    "    yield current\n",
    "\n",
    "    while True:\n",
    "        next = previous + current\n",
    "        previous = current\n",
    "        current = next\n",
    "\n",
    "        print(\"# FIBONACCI GENERATOR # \", current, \"is generated\")\n",
    "        yield current"
   ]
  },
  {
   "cell_type": "code",
   "execution_count": 110,
   "metadata": {},
   "outputs": [
    {
     "name": "stdout",
     "output_type": "stream",
     "text": [
      "# FIBONACCI GENERATOR #  0 is generated\n",
      "# FIBONACCI GENERATOR #  1 is generated\n",
      "# FIBONACCI GENERATOR #  1 is generated\n",
      "# FIBONACCI GENERATOR #  2 is generated\n",
      "# FIBONACCI GENERATOR #  3 is generated\n",
      "# FIBONACCI GENERATOR #  5 is generated\n",
      "# FIBONACCI GENERATOR #  8 is generated\n",
      "# FIBONACCI GENERATOR #  13 is generated\n",
      "# FIBONACCI GENERATOR #  21 is generated\n",
      "# FIBONACCI GENERATOR #  34 is generated\n",
      "# FIBONACCI GENERATOR #  55 is generated\n",
      "# FIBONACCI GENERATOR #  89 is generated\n",
      "# FIBONACCI GENERATOR #  144 is generated\n",
      "# FIBONACCI GENERATOR #  233 is generated\n",
      "# FIBONACCI GENERATOR #  377 is generated\n",
      "# FIBONACCI GENERATOR #  610 is generated\n",
      "# FIBONACCI GENERATOR #  987 is generated\n",
      "# FIBONACCI GENERATOR #  1597 is generated\n",
      "# FIBONACCI GENERATOR #  2584 is generated\n",
      "# FIBONACCI GENERATOR #  4181 is generated\n",
      "# FIBONACCI GENERATOR #  6765 is generated\n",
      "Result: [0, 3, 21, 20736, 987]\n"
     ]
    }
   ],
   "source": [
    "result = LINQIterator(fibonacci()).where(lambda x: x % 3 == 0).select(lambda x: x ** 2 if x % 2 == 0 else x).take(5).toList()\n",
    "\n",
    "print(\"Result:\", result)"
   ]
  },
  {
   "attachments": {},
   "cell_type": "markdown",
   "metadata": {},
   "source": [
    "# Word count"
   ]
  },
  {
   "cell_type": "code",
   "execution_count": null,
   "metadata": {},
   "outputs": [],
   "source": [
    "TEXT_PATH = 'text.txt'"
   ]
  },
  {
   "cell_type": "code",
   "execution_count": 100,
   "metadata": {},
   "outputs": [],
   "source": [
    "with open('text.txt', 'r') as in_file:\n",
    "    text = in_file.read()\n",
    "\n",
    "tokens = text.replace('\\n', ' ').replace('  ', ' ').split(' ')"
   ]
  },
  {
   "cell_type": "code",
   "execution_count": 103,
   "metadata": {},
   "outputs": [
    {
     "data": {
      "text/plain": [
       "[('в', 2),\n",
       " ('игре', 2),\n",
       " ('на', 2),\n",
       " ('Source', 2),\n",
       " ('что', 2),\n",
       " ('и', 2),\n",
       " ('МОСКВА,', 1),\n",
       " ('22', 1),\n",
       " ('мар', 1),\n",
       " ('—', 1),\n",
       " ('РИА', 1),\n",
       " ('Новости.', 1),\n",
       " ('Студия', 1),\n",
       " ('Valve', 1),\n",
       " ('показала', 1),\n",
       " ('своем', 1),\n",
       " ('YouTube-канале', 1),\n",
       " ('несколько', 1),\n",
       " ('видеороликов,', 1),\n",
       " ('посвященных', 1),\n",
       " ('Counter-Strike', 1),\n",
       " ('2,', 1),\n",
       " ('которая', 1),\n",
       " ('выйдет', 1),\n",
       " ('летом', 1),\n",
       " ('2023', 1),\n",
       " ('года.', 1),\n",
       " ('По', 1),\n",
       " ('словам', 1),\n",
       " ('разработчиков,', 1),\n",
       " ('геймплей', 1),\n",
       " ('станет', 1),\n",
       " ('динамичнее', 1),\n",
       " ('за', 1),\n",
       " ('счет', 1),\n",
       " ('графических', 1),\n",
       " ('улучшений,', 1),\n",
       " ('реализованных', 1),\n",
       " ('движке', 1),\n",
       " ('2.', 1),\n",
       " ('Отмечается,', 1),\n",
       " ('теперь', 1),\n",
       " ('дым', 1),\n",
       " ('выглядит', 1),\n",
       " ('реалистичнее,', 1),\n",
       " ('реагирует', 1),\n",
       " ('выстрелы', 1),\n",
       " ('взрывы.', 1),\n",
       " ('В', 1),\n",
       " ('компании', 1),\n",
       " ('также', 1),\n",
       " ('уточнили,', 1),\n",
       " ('2', 1),\n",
       " ('позволил', 1),\n",
       " ('повысить', 1),\n",
       " ('качество', 1),\n",
       " ('освещения', 1),\n",
       " ('сделать', 1),\n",
       " ('правдоподобную', 1),\n",
       " ('систему', 1),\n",
       " ('рендеринга,', 1),\n",
       " ('создающую', 1),\n",
       " ('реалистичные', 1),\n",
       " ('текстуры.', 1)]"
      ]
     },
     "execution_count": 103,
     "metadata": {},
     "output_type": "execute_result"
    }
   ],
   "source": [
    "LINQIterator(tokens).groupBy(lambda x: x).select(lambda x: (x[0], len(x[1]))).orderBy(lambda x: x[1], reverse=True).toList()"
   ]
  }
 ],
 "metadata": {
  "kernelspec": {
   "display_name": "Python 3 (ipykernel)",
   "language": "python",
   "name": "python3"
  },
  "language_info": {
   "codemirror_mode": {
    "name": "ipython",
    "version": 3
   },
   "file_extension": ".py",
   "mimetype": "text/x-python",
   "name": "python",
   "nbconvert_exporter": "python",
   "pygments_lexer": "ipython3",
   "version": "3.10.6"
  },
  "orig_nbformat": 4
 },
 "nbformat": 4,
 "nbformat_minor": 2
}
